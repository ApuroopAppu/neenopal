{
 "cells": [
  {
   "cell_type": "code",
   "execution_count": 11,
   "id": "9615693e",
   "metadata": {},
   "outputs": [],
   "source": [
    "import pandas as pd"
   ]
  },
  {
   "cell_type": "code",
   "execution_count": 12,
   "id": "ec56b4c1",
   "metadata": {},
   "outputs": [],
   "source": [
    "import psycopg2"
   ]
  },
  {
   "cell_type": "code",
   "execution_count": 13,
   "id": "e5064568",
   "metadata": {},
   "outputs": [],
   "source": [
    "conn = psycopg2.connect(\n",
    "    dbname='neenopal',  \n",
    "    user='postgres',    \n",
    "    password='postgres',\n",
    "    host='localhost',        \n",
    "    port='5432'              \n",
    ")"
   ]
  },
  {
   "cell_type": "code",
   "execution_count": 14,
   "id": "1074365d",
   "metadata": {},
   "outputs": [],
   "source": [
    "cursor = conn.cursor()"
   ]
  },
  {
   "cell_type": "code",
   "execution_count": 15,
   "id": "5881938d",
   "metadata": {},
   "outputs": [],
   "source": [
    "#creating a table to store the csv data \n",
    "\n",
    "\n",
    "cursor.execute(\"\"\"\n",
    "    CREATE TABLE table3 (\n",
    "    bike_name VARCHAR(255),\n",
    "    price INTEGER,\n",
    "    city VARCHAR(255),\n",
    "    kms_driven INTEGER,\n",
    "    owner VARCHAR(255),\n",
    "    age INTEGER,\n",
    "    power INTEGER,\n",
    "    brand VARCHAR(255)\n",
    ");\n",
    "\"\"\");"
   ]
  },
  {
   "cell_type": "code",
   "execution_count": 16,
   "id": "675c5f01",
   "metadata": {},
   "outputs": [],
   "source": [
    "conn.commit()"
   ]
  },
  {
   "cell_type": "code",
   "execution_count": 17,
   "id": "db89f2d1",
   "metadata": {},
   "outputs": [],
   "source": [
    "# reading csv data using pandas \n",
    "\n",
    "df = pd.read_csv('used_bikes.csv')\n",
    "\n"
   ]
  },
  {
   "cell_type": "code",
   "execution_count": 18,
   "id": "7869f578",
   "metadata": {},
   "outputs": [],
   "source": [
    "for i in range(len(df)):\n",
    "    cursor.execute(\n",
    "        \"INSERT INTO table3 (bike_name,price,city,kms_driven,owner,age,power,brand) VALUES (%s,%s,%s,%s,%s,%s,%s,%s)\",\n",
    "        (df.iloc[i]['bike_name'], df.iloc[i]['price'], df.iloc[i]['city'],df.iloc[i]['kms_driven'],\n",
    "         df.iloc[i]['owner'],df.iloc[i]['age'],df.iloc[i]['power'],df.iloc[i]['brand'])\n",
    "    )\n",
    "\n"
   ]
  },
  {
   "cell_type": "code",
   "execution_count": 19,
   "id": "c0a22c9d",
   "metadata": {},
   "outputs": [],
   "source": [
    "conn.commit()"
   ]
  },
  {
   "cell_type": "code",
   "execution_count": 20,
   "id": "f34b772a",
   "metadata": {},
   "outputs": [
    {
     "name": "stdout",
     "output_type": "stream",
     "text": [
      "Size of the table in schema 1 : 48 kB\n"
     ]
    }
   ],
   "source": [
    "cursor.execute(\"SELECT pg_size_pretty(pg_total_relation_size('table3'))\")\n",
    "\n",
    "size = cursor.fetchone()[0]\n",
    "print(f\"Size of the table in schema 1 : {size}\")"
   ]
  },
  {
   "cell_type": "code",
   "execution_count": 21,
   "id": "580a4aff",
   "metadata": {},
   "outputs": [],
   "source": [
    "# creating another table with different data types \n",
    "\n",
    "\n",
    "cursor.execute(\"\"\"\n",
    "    CREATE TABLE table4 (\n",
    "    bike_name VARCHAR(255),\n",
    "    price VARCHAR(255),\n",
    "    city VARCHAR(255),\n",
    "    kms_driven VARCHAR(255),\n",
    "    owner VARCHAR(255),\n",
    "    age VARCHAR(255),\n",
    "    power VARCHAR(255),\n",
    "    brand VARCHAR(255)\n",
    ");\n",
    "\"\"\");"
   ]
  },
  {
   "cell_type": "code",
   "execution_count": 22,
   "id": "ea933eee",
   "metadata": {},
   "outputs": [],
   "source": [
    "conn.commit()"
   ]
  },
  {
   "cell_type": "code",
   "execution_count": 24,
   "id": "79d1cee3",
   "metadata": {},
   "outputs": [],
   "source": [
    "cursor.execute(\"\"\"DROP INDEX IF EXISTS bike_name;\"\"\")\n",
    "\n",
    "conn.commit()"
   ]
  },
  {
   "cell_type": "code",
   "execution_count": 25,
   "id": "b9ec305c",
   "metadata": {},
   "outputs": [],
   "source": [
    "for i in range(len(df)):\n",
    "    cursor.execute(\n",
    "        \"INSERT INTO table4 (bike_name,price,city,kms_driven,owner,age,power,brand) VALUES (%s,%s,%s,%s,%s,%s,%s,%s)\",\n",
    "        (df.iloc[i]['bike_name'], df.iloc[i]['price'], df.iloc[i]['city'],df.iloc[i]['kms_driven'],\n",
    "         df.iloc[i]['owner'],df.iloc[i]['age'],df.iloc[i]['power'],df.iloc[i]['brand'])\n",
    "    )"
   ]
  },
  {
   "cell_type": "code",
   "execution_count": 26,
   "id": "1fe1f7f9",
   "metadata": {},
   "outputs": [],
   "source": [
    "conn.commit()"
   ]
  },
  {
   "cell_type": "code",
   "execution_count": 27,
   "id": "cf84cdbc",
   "metadata": {},
   "outputs": [
    {
     "name": "stdout",
     "output_type": "stream",
     "text": [
      "Size of the table in schema 2 : 56 kB\n"
     ]
    }
   ],
   "source": [
    "cursor.execute(\"SELECT pg_size_pretty(pg_total_relation_size('table4'))\")\n",
    "\n",
    "size = cursor.fetchone()[0]\n",
    "print(f\"Size of the table in schema 2 : {size}\")"
   ]
  },
  {
   "cell_type": "code",
   "execution_count": 28,
   "id": "a542e5a3",
   "metadata": {},
   "outputs": [],
   "source": [
    "# schema 1 is where number is given a INTEGER data type which takes a fixed amount of data\n",
    "\n",
    "# where in schema 2 everything is given varchar which mean even numbers are taken as strings and take space based \n",
    "# on the length of number that's why this takes more data \n",
    "\n",
    "\n",
    "cursor.execute(\"\"\" CREATE INDEX bike_name ON table4 (bike_name);\n",
    "\"\"\")\n",
    "\n",
    "conn.commit()"
   ]
  },
  {
   "cell_type": "code",
   "execution_count": null,
   "id": "2968c86f",
   "metadata": {},
   "outputs": [],
   "source": []
  }
 ],
 "metadata": {
  "kernelspec": {
   "display_name": "Python 3 (ipykernel)",
   "language": "python",
   "name": "python3"
  },
  "language_info": {
   "codemirror_mode": {
    "name": "ipython",
    "version": 3
   },
   "file_extension": ".py",
   "mimetype": "text/x-python",
   "name": "python",
   "nbconvert_exporter": "python",
   "pygments_lexer": "ipython3",
   "version": "3.10.9"
  }
 },
 "nbformat": 4,
 "nbformat_minor": 5
}
