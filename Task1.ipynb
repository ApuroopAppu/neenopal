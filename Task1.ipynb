{
 "cells": [
  {
   "cell_type": "code",
   "execution_count": 14,
   "id": "62b8360a",
   "metadata": {},
   "outputs": [],
   "source": [
    "import pandas as pd"
   ]
  },
  {
   "cell_type": "code",
   "execution_count": 15,
   "id": "699d5b23",
   "metadata": {},
   "outputs": [],
   "source": [
    "df1 = pd.read_excel(r\"~/Documents/NeenOpal/Task1.xlsx\",sheet_name=\"data1\")\n",
    "\n",
    "df2 = pd.read_excel(r\"~/Documents/NeenOpal/Task1.xlsx\",sheet_name=\"data2\")"
   ]
  },
  {
   "cell_type": "code",
   "execution_count": 16,
   "id": "b907db99",
   "metadata": {},
   "outputs": [
    {
     "name": "stdout",
     "output_type": "stream",
     "text": [
      "            Order ID       Product ID  Qty\n",
      "0     CA-2014-100090  FUR-TA-10003715    3\n",
      "1     CA-2014-100090  OFF-BI-10001597    6\n",
      "2     CA-2014-100293  OFF-PA-10000176    6\n",
      "3     CA-2014-100328  OFF-BI-10000343    1\n",
      "4     CA-2014-100363  OFF-FA-10000611    2\n",
      "...              ...              ...  ...\n",
      "9472  US-2017-169551  OFF-PA-10004100    3\n",
      "9473  US-2017-169551  OFF-ST-10004835    3\n",
      "9474  US-2017-169551  TEC-AC-10002018    3\n",
      "9475  US-2017-169551  TEC-AC-10003033    2\n",
      "9476  US-2017-169551  TEC-PH-10001363    2\n",
      "\n",
      "[9477 rows x 3 columns]\n"
     ]
    }
   ],
   "source": [
    "print(df1)"
   ]
  },
  {
   "cell_type": "code",
   "execution_count": 17,
   "id": "ee0c590b",
   "metadata": {},
   "outputs": [],
   "source": [
    "import psycopg2"
   ]
  },
  {
   "cell_type": "code",
   "execution_count": 18,
   "id": "12f30cf0",
   "metadata": {},
   "outputs": [],
   "source": [
    "conn = psycopg2.connect(\n",
    "    dbname='neenopal',  \n",
    "    user='postgres',   \n",
    "    password='postgres',\n",
    "    host='localhost',        \n",
    "    port='5432'              \n",
    ")"
   ]
  },
  {
   "cell_type": "code",
   "execution_count": 19,
   "id": "9c4eea7c",
   "metadata": {},
   "outputs": [
    {
     "name": "stdout",
     "output_type": "stream",
     "text": [
      "<connection object at 0x118d33ca0; dsn: 'user=postgres password=xxx dbname=neenopal host=localhost port=5432', closed: 0>\n"
     ]
    }
   ],
   "source": [
    "print(conn)"
   ]
  },
  {
   "cell_type": "code",
   "execution_count": 20,
   "id": "90c41200",
   "metadata": {},
   "outputs": [],
   "source": [
    "\n",
    "\n",
    "cursor = conn.cursor()"
   ]
  },
  {
   "cell_type": "code",
   "execution_count": 21,
   "id": "c59cd9bc",
   "metadata": {},
   "outputs": [],
   "source": [
    "cursor.execute(\"\"\"\n",
    "    CREATE TABLE table1 (\n",
    "    orderID VARCHAR(255),\n",
    "    productID VARCHAR(255),\n",
    "    quantity INTEGER\n",
    ");\n",
    "\"\"\");\n"
   ]
  },
  {
   "cell_type": "code",
   "execution_count": 22,
   "id": "93c0fac2",
   "metadata": {},
   "outputs": [],
   "source": [
    "conn.commit()"
   ]
  },
  {
   "cell_type": "code",
   "execution_count": 23,
   "id": "4912af68",
   "metadata": {},
   "outputs": [
    {
     "name": "stdout",
     "output_type": "stream",
     "text": [
      "Order ID       CA-2014-100090\n",
      "Product ID    FUR-TA-10003715\n",
      "Qty                         3\n",
      "Name: 0, dtype: object\n"
     ]
    }
   ],
   "source": [
    "print(df1.iloc[0])"
   ]
  },
  {
   "cell_type": "code",
   "execution_count": 26,
   "id": "22100178",
   "metadata": {},
   "outputs": [],
   "source": [
    "\n",
    "for index, row in df1.iterrows():\n",
    "#     print(row)\n",
    "    cursor.execute(\n",
    "        \"INSERT INTO table1 (orderID, productID,quantity) VALUES (%s, %s, %s)\",\n",
    "        (row['Order ID'], row['Product ID'], row['Qty'])\n",
    "    )\n",
    "\n",
    "conn.commit()"
   ]
  },
  {
   "cell_type": "code",
   "execution_count": 27,
   "id": "7a098e86",
   "metadata": {},
   "outputs": [],
   "source": [
    "cursor.execute(\"\"\"\n",
    "    CREATE TABLE table2 (\n",
    "    orderID VARCHAR(255),\n",
    "    productID VARCHAR(255),\n",
    "    quantity INTEGER\n",
    ");\n",
    "\"\"\");\n",
    "\n",
    "conn.commit()"
   ]
  },
  {
   "cell_type": "code",
   "execution_count": 28,
   "id": "03c4c153",
   "metadata": {},
   "outputs": [],
   "source": [
    "for index, row in df2.iterrows():\n",
    "#     print(row)\n",
    "    cursor.execute(\n",
    "        \"INSERT INTO table2 (orderID, productID,quantity) VALUES (%s, %s, %s)\",\n",
    "        (row['Order ID'], row['Product ID'], row['Qty'])\n",
    "    )\n",
    "\n",
    "conn.commit()"
   ]
  },
  {
   "cell_type": "code",
   "execution_count": 29,
   "id": "b79381bc",
   "metadata": {},
   "outputs": [
    {
     "name": "stdout",
     "output_type": "stream",
     "text": [
      "506\n"
     ]
    }
   ],
   "source": [
    "\n",
    "# in_df1_not_in_df2 = 0\n",
    "\n",
    "# for i in range(len(df1)):\n",
    "#     cursor.execute(\n",
    "#         \"\"\"\n",
    "#         select * from table2 where orderID = %s and productID = %s\n",
    "#         \"\"\",\n",
    "#         (df1.iloc[i]['Order ID'],df1.iloc[i]['Product ID'])\n",
    "#     )\n",
    "#     t = cursor.fetchall()\n",
    "#     if len(t) == 0:\n",
    "#         in_df1_not_in_df2 = in_df1_not_in_df2 + 1\n",
    "        \n",
    "\n",
    "# print(in_df1_not_in_df2)"
   ]
  },
  {
   "cell_type": "code",
   "execution_count": 42,
   "id": "a6e079b3",
   "metadata": {},
   "outputs": [
    {
     "name": "stdout",
     "output_type": "stream",
     "text": [
      "Entries that are in table 1 but not in table 2: 506\n"
     ]
    }
   ],
   "source": [
    "\n",
    "cursor.execute(\"\"\"\n",
    "select * from (\n",
    "select table1.orderid  as orderid, table2.productid as productid \n",
    "FROM table1 left JOIN table2 on table1.orderid  = table2.orderid and table1.productid = table2.productid \n",
    ") as temptable\n",
    "\n",
    "where productid is null\n",
    "\"\"\")\n",
    "\n",
    "rows = cursor.fetchall()\n",
    "\n",
    "print('Entries that are in table 1 but not in table 2: ',end='')\n",
    "print(len(rows))\n"
   ]
  },
  {
   "cell_type": "code",
   "execution_count": 43,
   "id": "b7c4411e",
   "metadata": {},
   "outputs": [
    {
     "name": "stdout",
     "output_type": "stream",
     "text": [
      "Entries that are in table 2 but not in table 1: 508\n"
     ]
    }
   ],
   "source": [
    "cursor.execute(\"\"\"\n",
    "select * from (\n",
    "select table2.orderid  as orderid, table1.productid as productid, table2.quantity as quantity \n",
    "FROM table2 left JOIN table1 on table2.orderid  = table1.orderid and table2.productid = table1.productid \n",
    ") as temptable\n",
    "\n",
    "where productid is null\n",
    "\"\"\")\n",
    "\n",
    "rows2 = cursor.fetchall()\n",
    "\n",
    "print('Entries that are in table 2 but not in table 1: ',end='')\n",
    "print(len(rows2))\n"
   ]
  },
  {
   "cell_type": "code",
   "execution_count": 44,
   "id": "e00e7172",
   "metadata": {},
   "outputs": [
    {
     "name": "stdout",
     "output_type": "stream",
     "text": [
      "sum of quantities of all entries from table 2 but not in table 1: 1956\n"
     ]
    }
   ],
   "source": [
    "sum = 0\n",
    "\n",
    "# print(rows2[0])\n",
    "\n",
    "\n",
    "for i in range(len(rows2)):\n",
    "    sum = sum + rows2[i][2]\n",
    "    \n",
    "    \n",
    "print('sum of quantities of all entries from table 2 but not in table 1: ',end = '')\n",
    "print(sum)"
   ]
  },
  {
   "cell_type": "code",
   "execution_count": 45,
   "id": "b9f67957",
   "metadata": {},
   "outputs": [
    {
     "name": "stdout",
     "output_type": "stream",
     "text": [
      "total number of unique records: 9985\n"
     ]
    }
   ],
   "source": [
    "\n",
    "# total number of unique records \n",
    "\n",
    "print('total number of unique records: ',end='')\n",
    "print(len(rows) + len(rows2) + len(df1) - len(rows))"
   ]
  },
  {
   "cell_type": "code",
   "execution_count": 46,
   "id": "2c9836dc",
   "metadata": {},
   "outputs": [],
   "source": [
    "cursor.close()"
   ]
  },
  {
   "cell_type": "code",
   "execution_count": 47,
   "id": "42737e4e",
   "metadata": {},
   "outputs": [],
   "source": [
    "conn.close()"
   ]
  },
  {
   "cell_type": "code",
   "execution_count": null,
   "id": "57376ad5",
   "metadata": {},
   "outputs": [],
   "source": []
  }
 ],
 "metadata": {
  "kernelspec": {
   "display_name": "Python 3 (ipykernel)",
   "language": "python",
   "name": "python3"
  },
  "language_info": {
   "codemirror_mode": {
    "name": "ipython",
    "version": 3
   },
   "file_extension": ".py",
   "mimetype": "text/x-python",
   "name": "python",
   "nbconvert_exporter": "python",
   "pygments_lexer": "ipython3",
   "version": "3.10.9"
  }
 },
 "nbformat": 4,
 "nbformat_minor": 5
}
